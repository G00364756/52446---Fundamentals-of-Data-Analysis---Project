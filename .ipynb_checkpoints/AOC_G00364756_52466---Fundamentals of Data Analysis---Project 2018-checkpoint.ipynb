{
 "cells": [
  {
   "cell_type": "markdown",
   "metadata": {
    "collapsed": true
   },
   "source": [
    "# Matplotlib.pyplot.boxplot Python Library Package Investigation - AOC G00364756\n",
    "\n",
    "## Date created: 18/11/2018\n",
    "\n",
    "### Introduction¶"
   ]
  },
  {
   "cell_type": "markdown",
   "metadata": {},
   "source": [
    "## Problem statement\n",
    "The box plot is common in data analysis for investigating individual numerical variables.\n",
    "In this project, you will investigate and explain box plots and their uses. The boxplot\n",
    "function from the Python package matplotlib.pyplot can be used to create box plots.\n",
    "Your submission should be in the form of a repository containing a Jupyter notebook in\n",
    "which you detail your findings. In your notebook, you should:\n",
    "* Summarise the history of the box plot and situations in which it used.\n",
    "* Demonstrate the use of the box plot using data of your choosing.\n",
    "* Explain any relevant terminology such as the terms quartile and percentile.\n",
    "* Compare the box plot to alternatives."
   ]
  },
  {
   "cell_type": "code",
   "execution_count": 8,
   "metadata": {},
   "outputs": [],
   "source": [
    "# Import all python packages necessary to analyse the dataset\n",
    "import numpy as np\n",
    "import pandas as pd\n",
    "import matplotlib.pyplot as plt\n",
    "\n",
    "# Read the iris dataset csv file.\n",
    "df = pd.read_csv(\"iris.csv\",  names = [\"sepal_length\", \"sepal_width\", \"petal_length\", \"petal_width\", \"class\"])"
   ]
  },
  {
   "cell_type": "code",
   "execution_count": 5,
   "metadata": {},
   "outputs": [
    {
     "data": {
      "text/plain": [
       "{'boxes': [<matplotlib.lines.Line2D at 0x1e1a2239470>],\n",
       " 'caps': [<matplotlib.lines.Line2D at 0x1e1a2239f60>,\n",
       "  <matplotlib.lines.Line2D at 0x1e1a223f400>],\n",
       " 'fliers': [<matplotlib.lines.Line2D at 0x1e1a223fcc0>],\n",
       " 'means': [],\n",
       " 'medians': [<matplotlib.lines.Line2D at 0x1e1a223f860>],\n",
       " 'whiskers': [<matplotlib.lines.Line2D at 0x1e1a22395c0>,\n",
       "  <matplotlib.lines.Line2D at 0x1e1a2239b00>]}"
      ]
     },
     "execution_count": 5,
     "metadata": {},
     "output_type": "execute_result"
    },
    {
     "data": {
      "image/png": "[encoded data removed]",
      "text/plain": [
       "<matplotlib.figure.Figure at 0x1e1a1b22d68>"
      ]
     },
     "metadata": {},
     "output_type": "display_data"
    }
   ],
   "source": [
    "# magic code that debugs some issues observed with matplotlib\n",
    "%matplotlib inline\n",
    "\n",
    "# Plot a boxplot of sepal length\n",
    "fig1, ax1 = plt.subplots()\n",
    "ax1.set_title('Basic_Plot_1')\n",
    "ax1.boxplot(df['sepal_length'])"
   ]
  },
  {
   "cell_type": "code",
   "execution_count": 9,
   "metadata": {},
   "outputs": [
    {
     "data": {
      "text/plain": [
       "{'boxes': [<matplotlib.lines.Line2D at 0x1e1a23cf1d0>],\n",
       " 'caps': [<matplotlib.lines.Line2D at 0x1e1a23cfcc0>,\n",
       "  <matplotlib.lines.Line2D at 0x1e1a23d6160>],\n",
       " 'fliers': [<matplotlib.lines.Line2D at 0x1e1a23d6a20>],\n",
       " 'means': [],\n",
       " 'medians': [<matplotlib.lines.Line2D at 0x1e1a23d65c0>],\n",
       " 'whiskers': [<matplotlib.lines.Line2D at 0x1e1a23cf320>,\n",
       "  <matplotlib.lines.Line2D at 0x1e1a23cf860>]}"
      ]
     },
     "execution_count": 9,
     "metadata": {},
     "output_type": "execute_result"
    },
    {
     "data": {
      "image/png": "[encoded data removed]",
      "text/plain": [
       "<matplotlib.figure.Figure at 0x1e1a23767f0>"
      ]
     },
     "metadata": {},
     "output_type": "display_data"
    }
   ],
   "source": [
    "fig2, ax2 = plt.subplots()\n",
    "ax2.set_title('Basic_Plot_2')\n",
    "ax2.boxplot(df['sepal_width'])"
   ]
  },
  {
   "cell_type": "code",
   "execution_count": 10,
   "metadata": {},
   "outputs": [
    {
     "data": {
      "text/plain": [
       "{'boxes': [<matplotlib.lines.Line2D at 0x1e1a242d978>],\n",
       " 'caps': [<matplotlib.lines.Line2D at 0x1e1a24374a8>,\n",
       "  <matplotlib.lines.Line2D at 0x1e1a2437908>],\n",
       " 'fliers': [<matplotlib.lines.Line2D at 0x1e1a243e208>],\n",
       " 'means': [],\n",
       " 'medians': [<matplotlib.lines.Line2D at 0x1e1a2437d68>],\n",
       " 'whiskers': [<matplotlib.lines.Line2D at 0x1e1a242dac8>,\n",
       "  <matplotlib.lines.Line2D at 0x1e1a2437048>]}"
      ]
     },
     "execution_count": 10,
     "metadata": {},
     "output_type": "execute_result"
    },
    {
     "data": {
      "image/png": "[encoded data removed]",
      "text/plain": [
       "<matplotlib.figure.Figure at 0x1e1a2167908>"
      ]
     },
     "metadata": {},
     "output_type": "display_data"
    }
   ],
   "source": [
    "fig3, ax3 = plt.subplots()\n",
    "ax3.set_title('Basic_Plot_3')\n",
    "ax3.boxplot(df['petal_length'])"
   ]
  },
  {
   "cell_type": "code",
   "execution_count": 11,
   "metadata": {},
   "outputs": [
    {
     "data": {
      "text/plain": [
       "{'boxes': [<matplotlib.lines.Line2D at 0x1e1a2499320>],\n",
       " 'caps': [<matplotlib.lines.Line2D at 0x1e1a2499e10>,\n",
       "  <matplotlib.lines.Line2D at 0x1e1a24a22b0>],\n",
       " 'fliers': [<matplotlib.lines.Line2D at 0x1e1a24a2b70>],\n",
       " 'means': [],\n",
       " 'medians': [<matplotlib.lines.Line2D at 0x1e1a24a2710>],\n",
       " 'whiskers': [<matplotlib.lines.Line2D at 0x1e1a2499470>,\n",
       "  <matplotlib.lines.Line2D at 0x1e1a24999b0>]}"
      ]
     },
     "execution_count": 11,
     "metadata": {},
     "output_type": "execute_result"
    },
    {
     "data": {
      "image/png": "[encoded data removed]",
      "text/plain": [
       "<matplotlib.figure.Figure at 0x1e1a23f3ba8>"
      ]
     },
     "metadata": {},
     "output_type": "display_data"
    }
   ],
   "source": [
    "fig4, ax4 = plt.subplots()\n",
    "ax4.set_title('Basic_Plot_4')\n",
    "ax4.boxplot(df['petal_width'])"
   ]
  },
  {
   "cell_type": "code",
   "execution_count": null,
   "metadata": {
    "collapsed": true
   },
   "outputs": [],
   "source": []
  }
 ],
 "metadata": {
  "kernelspec": {
   "display_name": "Python 3",
   "language": "python",
   "name": "python3"
  },
  "language_info": {
   "codemirror_mode": {
    "name": "ipython",
    "version": 3
   },
   "file_extension": ".py",
   "mimetype": "text/x-python",
   "name": "python",
   "nbconvert_exporter": "python",
   "pygments_lexer": "ipython3",
   "version": "3.6.3"
  }
 },
 "nbformat": 4,
 "nbformat_minor": 2
}
